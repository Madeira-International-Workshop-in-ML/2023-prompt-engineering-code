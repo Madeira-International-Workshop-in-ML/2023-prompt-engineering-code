{
 "cells": [
  {
   "cell_type": "markdown",
   "source": [
    "# A word about the transformer's base function Word2Vec\n",
    "\n",
    "Let's start this notebook by looking at the base function of the Transformer model Word2Vec.\n",
    "\n",
    "We will show how to train a Word2Vec model to be used as an input embedding layer for a Transformer model.\n",
    "\n",
    "The outcome of the Word2Vec is a collection of word vectors, with vectors that are closely positioned in vector space signifying similar meanings derived from their context, while word vectors situated far apart indicate contrasting meanings.\n",
    "\n",
    "The intuition behind this model is that words that appear in similar contexts are semantically similar."
   ],
   "metadata": {
    "collapsed": false
   },
   "id": "1187a90c86fd26ad"
  },
  {
   "cell_type": "markdown",
   "source": [
    "Let's start by importing the required libraries and load the data."
   ],
   "metadata": {
    "collapsed": false
   },
   "id": "ed04d5663494720c"
  },
  {
   "cell_type": "code",
   "execution_count": 1,
   "outputs": [
    {
     "name": "stderr",
     "output_type": "stream",
     "text": [
      "[nltk_data] Downloading package punkt to\n",
      "[nltk_data]     /Users/diogonunofreitas/nltk_data...\n",
      "[nltk_data]   Package punkt is already up-to-date!\n",
      "[nltk_data] Downloading package stopwords to\n",
      "[nltk_data]     /Users/diogonunofreitas/nltk_data...\n",
      "[nltk_data]   Package stopwords is already up-to-date!\n"
     ]
    },
    {
     "data": {
      "text/plain": "True"
     },
     "execution_count": 1,
     "metadata": {},
     "output_type": "execute_result"
    }
   ],
   "source": [
    "import nltk\n",
    "import pandas as pd\n",
    "from gensim.models import Word2Vec\n",
    "from nltk import word_tokenize\n",
    "from nltk.corpus import stopwords\n",
    "\n",
    "nltk.download('punkt')\n",
    "nltk.download('stopwords')"
   ],
   "metadata": {
    "collapsed": false,
    "ExecuteTime": {
     "end_time": "2023-09-10T15:55:09.879624Z",
     "start_time": "2023-09-10T15:55:08.244565Z"
    }
   },
   "id": "d82cc66bb27edfbc"
  },
  {
   "cell_type": "code",
   "execution_count": 2,
   "outputs": [],
   "source": [
    "corpus = pd.read_csv('imdb.csv')"
   ],
   "metadata": {
    "collapsed": false,
    "ExecuteTime": {
     "end_time": "2023-09-10T15:55:10.114907Z",
     "start_time": "2023-09-10T15:55:09.880293Z"
    }
   },
   "id": "c503ff61948834e1"
  },
  {
   "cell_type": "markdown",
   "source": [
    "## Tokenization and Stopword Removal"
   ],
   "metadata": {
    "collapsed": false
   },
   "id": "2745a5fedd4418d7"
  },
  {
   "cell_type": "markdown",
   "source": [
    "We will start by tokenize the text into words, which is required for training the Word2Vec model.\n",
    "\n",
    "After that, it is recommended to remove stopwords and pontuation from the text before training the Word2Vec model. Stopwords are words that appear very frequently in the English language, such as \"the\", \"a\", \"an\", etc. \n",
    "These words do not add much value to the model, so it is recommended to remove them.\n",
    "\n",
    "After removing the stopwords, we will lemmatize the words. Lemmatization is the process of converting a word to its base form. For example, the word \"running\" will be converted to \"run\". This is done to reduce the number of unique words in the corpus, which will reduce the size of the Word2Vec model. "
   ],
   "metadata": {
    "collapsed": false
   },
   "id": "3c24c1942929cd4f"
  },
  {
   "cell_type": "code",
   "execution_count": 3,
   "outputs": [],
   "source": [
    "def process_text(text):\n",
    "    \"\"\"\n",
    "    Tokenize the text and remove stopwords\n",
    "    :param text: the text to process\n",
    "    :return: the processed text tokenized and without stopwords\n",
    "    \"\"\"\n",
    "    # Tokenize the text\n",
    "    tokenized_text = word_tokenize(text.lower())\n",
    "    # Remove stopwords\n",
    "    stop_words = set(stopwords.words('english'))\n",
    "    filtered_text = [word for word in tokenized_text if word not in stop_words]\n",
    "    # Remove punctuation\n",
    "    filtered_text = [word for word in filtered_text if word.isalpha()]\n",
    "    # Lemmatize words\n",
    "    lemmatizer = nltk.stem.WordNetLemmatizer()\n",
    "    filtered_text = [lemmatizer.lemmatize(word) for word in filtered_text]\n",
    "    return filtered_text"
   ],
   "metadata": {
    "collapsed": false,
    "ExecuteTime": {
     "end_time": "2023-09-10T15:55:10.119890Z",
     "start_time": "2023-09-10T15:55:10.115883Z"
    }
   },
   "id": "cf2e434af8c8455"
  },
  {
   "cell_type": "code",
   "execution_count": 4,
   "outputs": [],
   "source": [
    "# Apply the function to the corpus to get a list of tokenized reviews\n",
    "tokenized_reviews = [process_text(text) for text in corpus['Review']]"
   ],
   "metadata": {
    "collapsed": false,
    "ExecuteTime": {
     "end_time": "2023-09-10T15:55:25.583967Z",
     "start_time": "2023-09-10T15:55:10.118455Z"
    }
   },
   "id": "e121fc4031cc19a0"
  },
  {
   "cell_type": "markdown",
   "source": [
    "## Training the Word2Vec Model"
   ],
   "metadata": {
    "collapsed": false
   },
   "id": "699a698c4b2978d7"
  },
  {
   "cell_type": "code",
   "execution_count": 5,
   "outputs": [],
   "source": [
    "# Train the Word2Vec model using the tokenized reviews and the training algorithm CBOW (Continuous Bag of Words).\n",
    "# The CBOW model architecture aims to forecast the central word (the target word) by relying on the context words from the surrounding text. To illustrate this concept using a basic sentence, such as \"the quick brown fox jumps over the lazy dog,\" we can form pairs of (context window, target word). When we adopt a context window size of 2, these pairs might appear as follows: ([quick, fox], brown), ([the, brown], quick), ([the, dog], lazy), and so forth. Consequently, the model goal is to make predictions for the target word using the context window words as input.\n",
    "model = Word2Vec(tokenized_reviews, window=5, sg=0)"
   ],
   "metadata": {
    "collapsed": false,
    "ExecuteTime": {
     "end_time": "2023-09-10T15:55:32.728174Z",
     "start_time": "2023-09-10T15:55:25.627301Z"
    }
   },
   "id": "48254b0e333f8d86"
  },
  {
   "cell_type": "code",
   "execution_count": 6,
   "outputs": [
    {
     "name": "stdout",
     "output_type": "stream",
     "text": [
      "Vector for 'shoot': [-1.601348    0.09291331 -0.2091694  -0.20012675 -0.31293353 -0.98299575\n",
      " -1.4431851   0.86283994  0.5607004  -0.20436175 -0.1266774  -0.96774113\n",
      " -0.10618712 -0.7847869   0.719473   -1.0028324   0.64026845 -0.5788989\n",
      "  0.97191536  0.6465201  -0.50941294 -0.44322893 -1.1775478  -0.9309422\n",
      "  0.509612   -0.00369132 -0.825812    1.200712   -0.19466943  0.35298246\n",
      "  1.0321238   0.6536332  -1.3436902   0.6521783  -0.9366522  -0.304327\n",
      " -0.00662516 -0.08758615  0.11713576 -0.41246325 -0.49395525 -0.3112347\n",
      "  0.89092785  0.5860399  -0.6303957  -0.5766113  -0.13125284  1.4730711\n",
      " -0.8066987  -1.042017    0.6502339  -0.4309696   0.68188727  0.3263426\n",
      "  0.43316984  0.21201862 -0.25643376  0.9354706   0.59966797 -0.3857056\n",
      "  0.16552098  0.00366997 -0.39653325 -0.66316974 -0.02419852 -0.45007494\n",
      "  0.41504377  1.2620479   0.43472221  1.7092502   0.4752763   0.829365\n",
      " -0.09821726 -1.4151767  -0.56747913  0.15081604 -1.1768506   0.65523297\n",
      "  0.02793373 -1.4035088  -0.34144238 -0.3855727  -1.2274553   1.0592092\n",
      "  0.24290524 -0.36690384 -1.6872036  -0.30787194  0.41148815  0.25491294\n",
      "  0.8692087  -0.68929225 -0.4757426  -0.56286424  1.3036973  -0.59888715\n",
      "  0.51705396 -0.5385365   0.61560524 -0.31806627]\n",
      "Similar words to 'shoot': [('gun', 0.7846399545669556), ('knock', 0.7788116931915283), ('bullet', 0.7692899107933044), ('knife', 0.7686763405799866), ('fly', 0.7617911696434021)]\n"
     ]
    }
   ],
   "source": [
    "# Get the vector for a word\n",
    "word = 'shoot'\n",
    "\n",
    "# Get the vector for a word\n",
    "word_vector = model.wv[word]\n",
    "\n",
    "# Find similar words\n",
    "similar_words = model.wv.most_similar(word, topn=5)\n",
    "\n",
    "# Print the word vector and similar words\n",
    "print(f\"Vector for '{word}': {word_vector}\")\n",
    "print(f\"Similar words to '{word}': {similar_words}\")"
   ],
   "metadata": {
    "collapsed": false,
    "ExecuteTime": {
     "end_time": "2023-09-10T15:55:32.793789Z",
     "start_time": "2023-09-10T15:55:32.728592Z"
    }
   },
   "id": "82a0a1e63b315092"
  },
  {
   "cell_type": "markdown",
   "source": [
    "# OpenAI API\n",
    "\n",
    "The rest of the notebook will be dedicated to the OpenAI API. We will show how to use the API to sentiment analysis and summarization.\n",
    "\n",
    "Let's start by installing and importing the OpenAI library."
   ],
   "metadata": {
    "collapsed": false
   },
   "id": "7dc525129e8beda5"
  },
  {
   "cell_type": "code",
   "execution_count": 7,
   "outputs": [
    {
     "name": "stdout",
     "output_type": "stream",
     "text": [
      "Requirement already satisfied: openai in /Users/diogonunofreitas/anaconda3/lib/python3.11/site-packages (0.27.4)\r\n",
      "Requirement already satisfied: requests>=2.20 in /Users/diogonunofreitas/anaconda3/lib/python3.11/site-packages (from openai) (2.31.0)\r\n",
      "Requirement already satisfied: tqdm in /Users/diogonunofreitas/anaconda3/lib/python3.11/site-packages (from openai) (4.65.0)\r\n",
      "Requirement already satisfied: aiohttp in /Users/diogonunofreitas/anaconda3/lib/python3.11/site-packages (from openai) (3.8.3)\r\n",
      "Requirement already satisfied: charset-normalizer<4,>=2 in /Users/diogonunofreitas/anaconda3/lib/python3.11/site-packages (from requests>=2.20->openai) (2.0.4)\r\n",
      "Requirement already satisfied: idna<4,>=2.5 in /Users/diogonunofreitas/anaconda3/lib/python3.11/site-packages (from requests>=2.20->openai) (3.4)\r\n",
      "Requirement already satisfied: urllib3<3,>=1.21.1 in /Users/diogonunofreitas/anaconda3/lib/python3.11/site-packages (from requests>=2.20->openai) (1.26.16)\r\n",
      "Requirement already satisfied: certifi>=2017.4.17 in /Users/diogonunofreitas/anaconda3/lib/python3.11/site-packages (from requests>=2.20->openai) (2023.7.22)\r\n",
      "Requirement already satisfied: attrs>=17.3.0 in /Users/diogonunofreitas/anaconda3/lib/python3.11/site-packages (from aiohttp->openai) (22.1.0)\r\n",
      "Requirement already satisfied: multidict<7.0,>=4.5 in /Users/diogonunofreitas/anaconda3/lib/python3.11/site-packages (from aiohttp->openai) (6.0.2)\r\n",
      "Requirement already satisfied: async-timeout<5.0,>=4.0.0a3 in /Users/diogonunofreitas/anaconda3/lib/python3.11/site-packages (from aiohttp->openai) (4.0.2)\r\n",
      "Requirement already satisfied: yarl<2.0,>=1.0 in /Users/diogonunofreitas/anaconda3/lib/python3.11/site-packages (from aiohttp->openai) (1.8.1)\r\n",
      "Requirement already satisfied: frozenlist>=1.1.1 in /Users/diogonunofreitas/anaconda3/lib/python3.11/site-packages (from aiohttp->openai) (1.3.3)\r\n",
      "Requirement already satisfied: aiosignal>=1.1.2 in /Users/diogonunofreitas/anaconda3/lib/python3.11/site-packages (from aiohttp->openai) (1.2.0)\r\n"
     ]
    }
   ],
   "source": [
    "!pip install openai"
   ],
   "metadata": {
    "collapsed": false,
    "ExecuteTime": {
     "end_time": "2023-09-10T15:55:35.290121Z",
     "start_time": "2023-09-10T15:55:32.783882Z"
    }
   },
   "id": "57f1c43a6d36c043"
  },
  {
   "cell_type": "code",
   "execution_count": 8,
   "outputs": [],
   "source": [
    "import openai"
   ],
   "metadata": {
    "collapsed": false,
    "ExecuteTime": {
     "end_time": "2023-09-10T15:55:35.372026Z",
     "start_time": "2023-09-10T15:55:35.290729Z"
    }
   },
   "id": "68364e8635d35727"
  },
  {
   "cell_type": "markdown",
   "source": [
    "## Completion function\n",
    "\n",
    "The follwing function will be used to get the completion from the OpenAI API."
   ],
   "metadata": {
    "collapsed": false
   },
   "id": "aeb876d231cd973e"
  },
  {
   "cell_type": "code",
   "execution_count": 9,
   "outputs": [],
   "source": [
    "def get_completion(prompt, model=\"gpt-3.5-turbo\", temperature=0):\n",
    "    \"\"\"\n",
    "    Get the completion from the OpenAI API\n",
    "    :param prompt: the prompt to send to the API\n",
    "    :param model: the model to use\n",
    "    :param temperature: the temperature to use\n",
    "    :return: the completion\n",
    "    \"\"\"\n",
    "    messages = [{\"role\": \"user\", \"content\": prompt}]\n",
    "    response = openai.ChatCompletion.create(\n",
    "        model=model,\n",
    "        messages=messages,\n",
    "        temperature=temperature\n",
    "    )\n",
    "    completion = response.choices[0].message[\"content\"]\n",
    "    return completion"
   ],
   "metadata": {
    "collapsed": false,
    "ExecuteTime": {
     "end_time": "2023-09-10T15:55:35.376150Z",
     "start_time": "2023-09-10T15:55:35.372930Z"
    }
   },
   "id": "eca7b8e9f4f7e811"
  },
  {
   "cell_type": "markdown",
   "source": [
    "## Configuration of the OpenAI API\n",
    "\n",
    "Before we can use the API, we need to configure it with our API key. The API key will be stored in a file called `.env`, which will be loaded by the `dotenv` library and used to configure the API via environment variables.\n",
    "\n",
    "The API key can be found in the OpenAI dashboard."
   ],
   "metadata": {
    "collapsed": false
   },
   "id": "c12ea1e3df9760f9"
  },
  {
   "cell_type": "code",
   "execution_count": 10,
   "outputs": [],
   "source": [
    "from dotenv import load_dotenv\n",
    "import os"
   ],
   "metadata": {
    "collapsed": false,
    "ExecuteTime": {
     "end_time": "2023-09-10T15:55:35.379997Z",
     "start_time": "2023-09-10T15:55:35.375158Z"
    }
   },
   "id": "3c9829df90c2c56e"
  },
  {
   "cell_type": "code",
   "execution_count": 11,
   "outputs": [],
   "source": [
    "_ = load_dotenv('.env')"
   ],
   "metadata": {
    "collapsed": false,
    "ExecuteTime": {
     "end_time": "2023-09-10T15:55:35.383683Z",
     "start_time": "2023-09-10T15:55:35.380195Z"
    }
   },
   "id": "ba5d84b4fa0c5d30"
  },
  {
   "cell_type": "code",
   "execution_count": 12,
   "outputs": [],
   "source": [
    "openai.api_key = os.getenv('OPENAI_API_KEY')"
   ],
   "metadata": {
    "collapsed": false,
    "ExecuteTime": {
     "end_time": "2023-09-10T15:55:35.384534Z",
     "start_time": "2023-09-10T15:55:35.382501Z"
    }
   },
   "id": "caca4663447bc0ca"
  },
  {
   "cell_type": "markdown",
   "source": [
    "_Optional:_ Define a hellper function to print contents in markdown format."
   ],
   "metadata": {
    "collapsed": false
   },
   "id": "272b8777a58caaa8"
  },
  {
   "cell_type": "code",
   "execution_count": 13,
   "outputs": [],
   "source": [
    "from IPython.display import Markdown, display"
   ],
   "metadata": {
    "collapsed": false,
    "ExecuteTime": {
     "end_time": "2023-09-10T15:55:35.387280Z",
     "start_time": "2023-09-10T15:55:35.384696Z"
    }
   },
   "id": "65ef4141c616fe21"
  },
  {
   "cell_type": "code",
   "execution_count": 14,
   "outputs": [],
   "source": [
    "def printmd(string):\n",
    "    \"\"\"\n",
    "    Print markdown content in the notebook.\n",
    "    :param string: the markdown content\n",
    "    \"\"\"\n",
    "    display(Markdown(string))"
   ],
   "metadata": {
    "collapsed": false,
    "ExecuteTime": {
     "end_time": "2023-09-10T15:55:35.390484Z",
     "start_time": "2023-09-10T15:55:35.389019Z"
    }
   },
   "id": "37377fc9061c1b18"
  },
  {
   "cell_type": "markdown",
   "source": [
    "Now, we can test our API configuration by sending a prompt to the API and printing the completion."
   ],
   "metadata": {
    "collapsed": false
   },
   "id": "3fbd51f3c402aa57"
  },
  {
   "cell_type": "code",
   "execution_count": 15,
   "outputs": [
    {
     "data": {
      "text/plain": "<IPython.core.display.Markdown object>",
      "text/markdown": "Dear [Recipient],\n\nWe are delighted to extend our warm invitation to the highly anticipated AI Summit, taking place on 13-09-2023 at 2pm. This prestigious event will be held at the esteemed Museu da Imprensa da Madeira, gathering tech professionals, researchers, and enthusiasts under one roof.\n\nJoin us for an enlightening afternoon dedicated to the latest advancements and trends in artificial intelligence. Immerse yourself in captivating discussions, thought-provoking presentations, and invaluable networking opportunities with industry experts and like-minded individuals.\n\nDate: 13-09-2023\nTime: 2pm\nVenue: Museu da Imprensa da Madeira\n\nWe eagerly anticipate your presence at this remarkable gathering, where knowledge and innovation converge. Kindly RSVP by [RSVP date] to secure your seat at this exclusive event.\n\nWe look forward to welcoming you to the AI Summit and sharing an unforgettable experience.\n\nSincerely,\n\n[Your Name]\n[Your Organization]"
     },
     "metadata": {},
     "output_type": "display_data"
    }
   ],
   "source": [
    "printmd(get_completion(\n",
    "    \"Craft a concise invitation for the AI Summit on 13-09-2023 at 2pm at the Museu da Imprensa da Madeira, keeping in mind that the audience will be tech professionals, researchers, and enthusiasts, and the format should be in a standard invitation style.\"))"
   ],
   "metadata": {
    "collapsed": false,
    "ExecuteTime": {
     "end_time": "2023-09-10T15:55:42.416046Z",
     "start_time": "2023-09-10T15:55:35.391014Z"
    }
   },
   "id": "7ccc602607bb4d49"
  },
  {
   "cell_type": "markdown",
   "source": [
    "**Now that we have configured the API, we can start using it to perform several tasks.**"
   ],
   "metadata": {
    "collapsed": false
   },
   "id": "4ab2cfab0d75598e"
  },
  {
   "cell_type": "markdown",
   "source": [
    "## Sentiment Analysis\n",
    "\n",
    "The following function will be used to perform sentiment analysis using the OpenAI API. Sentiment analysis is the process of determining whether a piece of writing is positive, negative, or neutral."
   ],
   "metadata": {
    "collapsed": false
   },
   "id": "e81df65e6315be59"
  },
  {
   "cell_type": "code",
   "execution_count": 16,
   "outputs": [],
   "source": [
    "def get_sentiment(text):\n",
    "    prompt = f\"What is the sentiment of the following movie review, which is delimited with triple backticks? Give your answer as a single word, either 'positive', 'negative' or 'neutral'. Review text: ```{text}```\"\n",
    "    return get_completion(prompt)"
   ],
   "metadata": {
    "collapsed": false,
    "ExecuteTime": {
     "end_time": "2023-09-10T15:55:42.424832Z",
     "start_time": "2023-09-10T15:55:42.416748Z"
    }
   },
   "id": "d77828b68e0f57a3"
  },
  {
   "cell_type": "code",
   "execution_count": 17,
   "outputs": [
    {
     "name": "stdout",
     "output_type": "stream",
     "text": [
      "Review 0: this was an absolutely terrible movie  don t be lured in by christopher walken or michael ironside  both are great actors  but this must simply be their worst role in history  even their great acting could not redeem this movie s ridiculous storyline  this movie is an early nineties us propaganda piece  the most pathetic scenes were those when the columbian rebels were making their cases for revolutions  maria conchita alonso appeared phony  and her pseudo love affair with walken was nothing but a pathetic emotional plug in a movie that was devoid of any real meaning  i am disappointed that there are movies like this  ruining actor s like christopher walken s good name  i could barely sit through it --> Sentiment: negative \n",
      "Review 1: i have been known to fall asleep during films  but this is usually due to a combination of things including  really tired  being warm and comfortable on the sette and having just eaten a lot  however on this occasion i fell asleep because the film was rubbish  the plot development was constant  constantly slow and boring  things seemed to happen  but with no explanation of what was causing them or why  i admit  i may have missed part of the film  but i watched the majority of it and everything just seemed to happen of its own accord without any real concern for anything else  i cant recommend this film at all --> Sentiment: negative \n",
      "Review 2: mann photographs the alberta rocky mountains in a superb fashion  and jimmy stewart and walter brennan give enjoyable performances as they always seem to do  but come on hollywood   a mountie telling the people of dawson city  yukon to elect themselves a marshal  yes a marshal   and to enforce the law themselves  then gunfighters battling it out on the streets for control of the town  nothing even remotely resembling that happened on the canadian side of the border during the klondike gold rush  mr  mann and company appear to have mistaken dawson city for deadwood  the canadian north for the american wild west canadian viewers be prepared for a reefer madness type of enjoyable howl with this ludicrous plot  or  to shake your head in disgust --> Sentiment: negative \n",
      "Review 3: this is the kind of film for a snowy sunday afternoon when the rest of the world can go ahead with its own business as you descend into a big arm chair and mellow for a couple of hours  wonderful performances from cher and nicolas cage  as always  gently row the plot along  there are no rapids to cross  no dangerous waters  just a warm and witty paddle through new york life at its best  a family film in every sense and one that deserves the praise it received --> Sentiment: positive \n",
      "Review 4: as others have mentioned  all the women that go nude in this film are mostly absolutely gorgeous  the plot very ably shows the hypocrisy of the female libido  when men are around they want to be pursued  but when no  men  are around  they become the pursuers of a 14 year old boy  and the boy becomes a man really fast  we should all be so lucky at this age    he then gets up the courage to pursue his true love --> Sentiment: positive \n",
      "Review 5: this is a film which should be seen by anybody interested in  effected by  or suffering from an eating disorder  it is an amazingly accurate and sensitive portrayal of bulimia in a teenage girl  its causes and its symptoms  the girl is played by one of the most brilliant young actresses working in cinema today  alison lohman  who was later so spectacular in  where the truth lies   i would recommend that this film be shown in all schools  as you will never see a better on this subject  alison lohman is absolutely outstanding  and one marvels at her ability to convey the anguish of a girl suffering from this compulsive disorder  if barometers tell us the air pressure  alison lohman tells us the emotional pressure with the same degree of accuracy  her emotional range is so precise  each scene could be measured microscopically for its gradations of trauma  on a scale of rising hysteria and desperation which reaches unbearable intensity  mare winningham is the perfect choice to play her mother  and does so with immense sympathy and a range of emotions just as finely tuned as lohman s  together  they make a pair of sensitive emotional oscillators vibrating in resonance with one another  this film is really an astonishing achievement  and director katt shea should be proud of it  the only reason for not seeing it is if you are not interested in people  but even if you like nature films best  this is after all animal behaviour at the sharp edge  bulimia is an extreme version of how a tormented soul can destroy her own body in a frenzy of despair  and if we don t sympathise with people suffering from the depths of despair  then we are dead inside --> Sentiment: positive \n",
      "Review 6: okay  you have penelope keith as miss herringbone tweed  b b e   backbone of england   she s killed off in the first scene   that s right  folks  this show has no backbone peter o toole as ol  colonel cricket from the first war and now the emblazered lord of the manor joanna lumley as the ensweatered lady of the manor  20 years younger than the colonel and 20 years past her own prime but still glamourous  brit spelling  not mine  enough to have a toy boy on the side  it s alright  they have col  cricket s full knowledge and consent  they guy even comes  round for christmas   still  she s considerate of the colonel enough to have said toy boy her own age  what a gal  david mccallum as said toy boy  equally as pointlessly glamourous as his squeeze  pilcher couldn t come up with any cover for him within the story  so she gave him a hush hush job at the circus and finally susan hampshire as miss polonia teacups  venerable headmistress of the venerable girls  boarding school  serving tea in her office with a dash of deep  poignant advice for life in the outside world just before graduation  her best bit of advice   i ve only been to nancherrow  the local stately home of england  once  i thought it was very beautiful but  somehow  not part of the real world   well  we can t say they didn t warn us ah  susan   time was  your character would have been running the whole show  they don t write  em like that any more  our loss  not yours so   with a cast and setting like this  you have the re makings of  brideshead revisited   right wrong  they took these 1 dimensional supporting roles because they paid so well  after all  acting is one of the oldest temp jobs there is  you name another  first warning sign  lots and lots of backlighting  they get around it by shooting outdoors    hey  it s just the sunlight  second warning sign  leading lady cries a lot  when not crying  her eyes are moist  that s the law of romance novels  leading lady is  dewy eyed  henceforth  leading lady shall be known as l l third warning sign  l l  actually has stars in her eyes when she s in love  still  i ll give emily mortimer an award just for having to act with that spotlight in her eyes  i wonder   did they use contacts  and lastly  fourth warning sign  no on screen female character is  mrs   she s either  miss  or  lady  when all was said and done  i still couldn t tell you who was pursuing whom and why  i couldn t even tell you what was said and done to sum up  they all live through world war ii without anything happening to them at all ok  at the end  l l  finds she s lost her parents to the japanese prison camps and baby sis comes home catatonic  meanwhile  there s always a  meanwhile    some young guy l l  had a crush on  when  i don t know  comes home from some wartime tough spot and is found living on the street by lady of the manor  must be some street if she s going to find him there   both war casualties are whisked away to recover at nancherrow  somebody has to be  whisked away  somewhere in these romance stories  great drama --> Sentiment: negative \n",
      "Review 7: the film is based on a genuine 1950s novel journalist colin mcinnes wrote a set of three  london novels    absolute beginners    city of spades  and  mr love and justice   i have read all three  the first two are excellent  the last  perhaps an experiment that did not come off  but mcinnes s work is highly acclaimed  and rightly so  this musical is the novelist s ultimate nightmare   to see the fruits of one s mind being turned into a glitzy  badly acted  soporific one dimensional apology of a film that says it captures the spirit of 1950s london  and does nothing of the sort thank goodness colin mcinnes wasn t alive to witness it --> Sentiment: negative \n",
      "Review 8: i really love the sexy action and sci fi films of the sixties and its because of the actress s that appeared in them  they found the sexiest women to be in these films and it didn t matter if they could act  remember  candy     the reason i was disappointed by this film was because it wasn t nostalgic enough  the story here has a european sci fi film called  dragonfly  being made and the director is fired  so the producers decide to let a young aspiring filmmaker  jeremy davies  to complete the picture  they re is one real beautiful woman in the film who plays dragonfly but she s barely in it  film is written and directed by roman coppola who uses some of his fathers exploits from his early days and puts it into the script  i wish the film could have been an homage to those early films  they could have lots of cameos by actors who appeared in them  there is one actor in this film who was popular from the sixties and its john phillip law  barbarella   gerard depardieu  giancarlo giannini and dean stockwell appear as well  i guess i m going to have to continue waiting for a director to make a good homage to the films of the sixties  if any are reading this   make it as sexy as you can   i ll be waiting --> Sentiment: negative \n",
      "Review 9: sure  this one isn t really a blockbuster  nor does it target such a position   dieter  is the first name of a quite popular german musician  who is either loved or hated for his kind of acting and thats exactly what this movie is about  it is based on the autobiography  dieter bohlen  wrote a few years ago but isn t meant to be accurate on that  the movie is filled with some sexual offensive content  at least for american standard  which is either amusing  not for the other  actors  of course  or dumb   it depends on your individual kind of humor or on you being a  bohlen  fan or not  technically speaking there isn t much to criticize  speaking of me i find this movie to be an ok movie --> Sentiment: neutral \n"
     ]
    }
   ],
   "source": [
    "# Let's test the function with a few reviews from the corpus\n",
    "for i in range(10):\n",
    "    print(\n",
    "        f\"Review {i}: {corpus.iloc[i]['Review']}--> Sentiment: {get_sentiment(corpus.iloc[i]['Review'])} \\n\")"
   ],
   "metadata": {
    "collapsed": false,
    "ExecuteTime": {
     "end_time": "2023-09-10T15:55:48.542022Z",
     "start_time": "2023-09-10T15:55:42.421489Z"
    }
   },
   "id": "309294fe0d4c2f26"
  },
  {
   "cell_type": "markdown",
   "source": [
    "## Inferring Topics\n",
    "\n",
    "Is the task of inferring topics from a piece of text."
   ],
   "metadata": {
    "collapsed": false
   },
   "id": "aa0567f080de56fd"
  },
  {
   "cell_type": "code",
   "execution_count": 18,
   "outputs": [],
   "source": [
    "# Read the suggestions from the text file\n",
    "with open('desired-topics.txt', 'r') as f:\n",
    "    suggestions = f.read()"
   ],
   "metadata": {
    "collapsed": false,
    "ExecuteTime": {
     "end_time": "2023-09-10T15:55:48.548927Z",
     "start_time": "2023-09-10T15:55:48.543771Z"
    }
   },
   "id": "ca8d4e53bb7c4d39"
  },
  {
   "cell_type": "code",
   "execution_count": 19,
   "outputs": [
    {
     "data": {
      "text/plain": "<IPython.core.display.Markdown object>",
      "text/markdown": "Machine Learning, Cloud AI, Generative AI, AI in Digital Marketing, Computer Vision"
     },
     "metadata": {},
     "output_type": "display_data"
    }
   ],
   "source": [
    "prompt = f\"\"\"\n",
    "Determine five topics that the participants of the MML '23 want to see discussed in the event. The suggestions are delimited by triple backticks. Each line corresponds to a user suggestion.\n",
    "Make each item one or two words long.\n",
    "Format your response as a list of items separated by commas.\n",
    "\n",
    "Suggestions: '''{suggestions}'''\n",
    "\"\"\"\n",
    "\n",
    "printmd(get_completion(prompt))"
   ],
   "metadata": {
    "collapsed": false,
    "ExecuteTime": {
     "end_time": "2023-09-10T15:55:49.582481Z",
     "start_time": "2023-09-10T15:55:48.548481Z"
    }
   },
   "id": "29298261006694aa"
  },
  {
   "cell_type": "markdown",
   "source": [
    "# Summarization and Q&A \n",
    "\n",
    "The follwing section will read a PDF file and summarize it using the OpenAI API. Also, it will answer a few questions about the text."
   ],
   "metadata": {
    "collapsed": false
   },
   "id": "fcaf9736d75b2067"
  },
  {
   "cell_type": "code",
   "execution_count": 20,
   "outputs": [],
   "source": [
    "import PyPDF2"
   ],
   "metadata": {
    "collapsed": false,
    "ExecuteTime": {
     "end_time": "2023-09-10T15:55:49.623372Z",
     "start_time": "2023-09-10T15:55:49.583543Z"
    }
   },
   "id": "f182de188b24481c"
  },
  {
   "cell_type": "code",
   "execution_count": 24,
   "outputs": [
    {
     "name": "stderr",
     "output_type": "stream",
     "text": [
      "PdfReader stream/file object is not in binary mode. It may not be read correctly.\n"
     ]
    },
    {
     "ename": "UnicodeDecodeError",
     "evalue": "'utf-8' codec can't decode byte 0xd0 in position 10: invalid continuation byte",
     "output_type": "error",
     "traceback": [
      "\u001B[0;31m---------------------------------------------------------------------------\u001B[0m",
      "\u001B[0;31mUnicodeDecodeError\u001B[0m                        Traceback (most recent call last)",
      "Cell \u001B[0;32mIn[24], line 4\u001B[0m\n\u001B[1;32m      2\u001B[0m text \u001B[38;5;241m=\u001B[39m \u001B[38;5;124m\"\u001B[39m\u001B[38;5;124m\"\u001B[39m\n\u001B[1;32m      3\u001B[0m \u001B[38;5;28;01mwith\u001B[39;00m \u001B[38;5;28mopen\u001B[39m(\u001B[38;5;124m'\u001B[39m\u001B[38;5;124mregulation.pdf\u001B[39m\u001B[38;5;124m'\u001B[39m, \u001B[38;5;124m'\u001B[39m\u001B[38;5;124mr\u001B[39m\u001B[38;5;124m'\u001B[39m) \u001B[38;5;28;01mas\u001B[39;00m pdfFileObj:\n\u001B[0;32m----> 4\u001B[0m     pdfReader \u001B[38;5;241m=\u001B[39m PyPDF2\u001B[38;5;241m.\u001B[39mPdfFileReader(pdfFileObj)\n\u001B[1;32m      5\u001B[0m     \u001B[38;5;28;01mfor\u001B[39;00m i \u001B[38;5;129;01min\u001B[39;00m \u001B[38;5;28mrange\u001B[39m(pdfReader\u001B[38;5;241m.\u001B[39mnumPages):\n\u001B[1;32m      6\u001B[0m         text \u001B[38;5;241m+\u001B[39m\u001B[38;5;241m=\u001B[39m pdfReader\u001B[38;5;241m.\u001B[39mgetPage(i)\u001B[38;5;241m.\u001B[39mextractText()\n",
      "File \u001B[0;32m~/anaconda3/lib/python3.11/site-packages/PyPDF2/_reader.py:1892\u001B[0m, in \u001B[0;36mPdfFileReader.__init__\u001B[0;34m(self, *args, **kwargs)\u001B[0m\n\u001B[1;32m   1890\u001B[0m \u001B[38;5;28;01mif\u001B[39;00m \u001B[38;5;124m\"\u001B[39m\u001B[38;5;124mstrict\u001B[39m\u001B[38;5;124m\"\u001B[39m \u001B[38;5;129;01mnot\u001B[39;00m \u001B[38;5;129;01min\u001B[39;00m kwargs \u001B[38;5;129;01mand\u001B[39;00m \u001B[38;5;28mlen\u001B[39m(args) \u001B[38;5;241m<\u001B[39m \u001B[38;5;241m2\u001B[39m:\n\u001B[1;32m   1891\u001B[0m     kwargs[\u001B[38;5;124m\"\u001B[39m\u001B[38;5;124mstrict\u001B[39m\u001B[38;5;124m\"\u001B[39m] \u001B[38;5;241m=\u001B[39m \u001B[38;5;28;01mTrue\u001B[39;00m  \u001B[38;5;66;03m# maintain the default\u001B[39;00m\n\u001B[0;32m-> 1892\u001B[0m \u001B[38;5;28msuper\u001B[39m()\u001B[38;5;241m.\u001B[39m\u001B[38;5;21m__init__\u001B[39m(\u001B[38;5;241m*\u001B[39margs, \u001B[38;5;241m*\u001B[39m\u001B[38;5;241m*\u001B[39mkwargs)\n",
      "File \u001B[0;32m~/anaconda3/lib/python3.11/site-packages/PyPDF2/_reader.py:274\u001B[0m, in \u001B[0;36mPdfReader.__init__\u001B[0;34m(self, stream, strict, password)\u001B[0m\n\u001B[1;32m    272\u001B[0m     \u001B[38;5;28;01mwith\u001B[39;00m \u001B[38;5;28mopen\u001B[39m(stream, \u001B[38;5;124m\"\u001B[39m\u001B[38;5;124mrb\u001B[39m\u001B[38;5;124m\"\u001B[39m) \u001B[38;5;28;01mas\u001B[39;00m fh:\n\u001B[1;32m    273\u001B[0m         stream \u001B[38;5;241m=\u001B[39m BytesIO(fh\u001B[38;5;241m.\u001B[39mread())\n\u001B[0;32m--> 274\u001B[0m \u001B[38;5;28mself\u001B[39m\u001B[38;5;241m.\u001B[39mread(stream)\n\u001B[1;32m    275\u001B[0m \u001B[38;5;28mself\u001B[39m\u001B[38;5;241m.\u001B[39mstream \u001B[38;5;241m=\u001B[39m stream\n\u001B[1;32m    277\u001B[0m \u001B[38;5;28mself\u001B[39m\u001B[38;5;241m.\u001B[39m_override_encryption \u001B[38;5;241m=\u001B[39m \u001B[38;5;28;01mFalse\u001B[39;00m\n",
      "File \u001B[0;32m~/anaconda3/lib/python3.11/site-packages/PyPDF2/_reader.py:1329\u001B[0m, in \u001B[0;36mPdfReader.read\u001B[0;34m(self, stream)\u001B[0m\n\u001B[1;32m   1328\u001B[0m \u001B[38;5;28;01mdef\u001B[39;00m \u001B[38;5;21mread\u001B[39m(\u001B[38;5;28mself\u001B[39m, stream: StreamType) \u001B[38;5;241m-\u001B[39m\u001B[38;5;241m>\u001B[39m \u001B[38;5;28;01mNone\u001B[39;00m:\n\u001B[0;32m-> 1329\u001B[0m     \u001B[38;5;28mself\u001B[39m\u001B[38;5;241m.\u001B[39m_basic_validation(stream)\n\u001B[1;32m   1330\u001B[0m     \u001B[38;5;28mself\u001B[39m\u001B[38;5;241m.\u001B[39m_find_eof_marker(stream)\n\u001B[1;32m   1331\u001B[0m     startxref \u001B[38;5;241m=\u001B[39m \u001B[38;5;28mself\u001B[39m\u001B[38;5;241m.\u001B[39m_find_startxref_pos(stream)\n",
      "File \u001B[0;32m~/anaconda3/lib/python3.11/site-packages/PyPDF2/_reader.py:1373\u001B[0m, in \u001B[0;36mPdfReader._basic_validation\u001B[0;34m(self, stream)\u001B[0m\n\u001B[1;32m   1371\u001B[0m \u001B[38;5;28;01mif\u001B[39;00m \u001B[38;5;28mself\u001B[39m\u001B[38;5;241m.\u001B[39mstrict:\n\u001B[1;32m   1372\u001B[0m     stream\u001B[38;5;241m.\u001B[39mseek(\u001B[38;5;241m0\u001B[39m, os\u001B[38;5;241m.\u001B[39mSEEK_SET)\n\u001B[0;32m-> 1373\u001B[0m     header_byte \u001B[38;5;241m=\u001B[39m stream\u001B[38;5;241m.\u001B[39mread(\u001B[38;5;241m5\u001B[39m)\n\u001B[1;32m   1374\u001B[0m     \u001B[38;5;28;01mif\u001B[39;00m header_byte \u001B[38;5;241m!=\u001B[39m \u001B[38;5;124mb\u001B[39m\u001B[38;5;124m\"\u001B[39m\u001B[38;5;124m%\u001B[39m\u001B[38;5;124mPDF-\u001B[39m\u001B[38;5;124m\"\u001B[39m:\n\u001B[1;32m   1375\u001B[0m         \u001B[38;5;28;01mraise\u001B[39;00m PdfReadError(\n\u001B[1;32m   1376\u001B[0m             \u001B[38;5;124mf\u001B[39m\u001B[38;5;124m\"\u001B[39m\u001B[38;5;124mPDF starts with \u001B[39m\u001B[38;5;124m'\u001B[39m\u001B[38;5;132;01m{\u001B[39;00mheader_byte\u001B[38;5;241m.\u001B[39mdecode(\u001B[38;5;124m'\u001B[39m\u001B[38;5;124mutf8\u001B[39m\u001B[38;5;124m'\u001B[39m)\u001B[38;5;132;01m}\u001B[39;00m\u001B[38;5;124m'\u001B[39m\u001B[38;5;124m, \u001B[39m\u001B[38;5;124m\"\u001B[39m\n\u001B[1;32m   1377\u001B[0m             \u001B[38;5;124m\"\u001B[39m\u001B[38;5;124mbut \u001B[39m\u001B[38;5;124m'\u001B[39m\u001B[38;5;124m%\u001B[39m\u001B[38;5;124mPDF-\u001B[39m\u001B[38;5;124m'\u001B[39m\u001B[38;5;124m expected\u001B[39m\u001B[38;5;124m\"\u001B[39m\n\u001B[1;32m   1378\u001B[0m         )\n",
      "File \u001B[0;32m<frozen codecs>:322\u001B[0m, in \u001B[0;36mdecode\u001B[0;34m(self, input, final)\u001B[0m\n",
      "\u001B[0;31mUnicodeDecodeError\u001B[0m: 'utf-8' codec can't decode byte 0xd0 in position 10: invalid continuation byte"
     ]
    }
   ],
   "source": [
    "# Read the PDF file and extract the text\n",
    "text = \"\"\n",
    "with open('regulation.pdf', 'rb') as pdfFileObj:\n",
    "    pdfReader = PyPDF2.PdfFileReader(pdfFileObj)\n",
    "    for i in range(pdfReader.numPages):\n",
    "        text += pdfReader.getPage(i).extractText()"
   ],
   "metadata": {
    "collapsed": false,
    "ExecuteTime": {
     "end_time": "2023-09-10T15:56:31.111955Z",
     "start_time": "2023-09-10T15:56:30.465113Z"
    }
   },
   "id": "84c3ffb414041e4b"
  },
  {
   "cell_type": "code",
   "execution_count": 22,
   "outputs": [
    {
     "data": {
      "text/plain": "<IPython.core.display.Markdown object>",
      "text/markdown": "Public Financing Regulation establishes guidelines for the allocation and management of public funds. Eligibility criteria include demonstrating public interest, complying with laws, and submitting a detailed proposal. The application process involves submitting an application form, presenting the proposal, and evaluation based on established criteria. Funds are allocated based on merit and alignment with public interest. Recipients are monitored for compliance and accountability measures are in place. Transactions involving public funds are documented and reports are published. An appeals and grievance mechanism is established. Non-compliance may result in suspension or legal action. The regulation is subject to review and amendments. Effective upon approval and publication. \n\nRéglementation sur le financement public établit des lignes directrices pour l'allocation et la gestion des fonds publics. Les critères d'éligibilité comprennent la démonstration d'un intérêt public, la conformité aux lois et la soumission d'une proposition détaillée. Le processus de demande implique la soumission d'un formulaire de demande, la présentation de la proposition et l'évaluation selon des critères établis. Les fonds sont alloués en fonction du mérite et de l'alignement avec l'intérêt public. Les bénéficiaires sont surveillés pour assurer la conformité et des mesures de responsabilité sont en place. Les transactions impliquant des fonds publics sont documentées et des rapports sont publiés. Un mécanisme d'appel et de plainte est établi. Le non-respect peut entraîner la suspension ou des poursuites judiciaires. La réglementation est sujette à révision et à des amendements. Entrée en vigueur après approbation et publication."
     },
     "metadata": {},
     "output_type": "display_data"
    }
   ],
   "source": [
    "prompt = f\"\"\"Your task is to perform the following actions:\n",
    "1 - Summarize the following text delimited by <> in at most 100 words. Focus on eligibility criteria, application process, and evaluation criteria.\n",
    "2 - Translate the summary into French.\n",
    "Text: <{text}>\"\"\"\n",
    "\n",
    "printmd(get_completion(prompt))"
   ],
   "metadata": {
    "collapsed": false,
    "ExecuteTime": {
     "end_time": "2023-09-10T15:56:01.763970Z",
     "start_time": "2023-09-10T15:55:49.636460Z"
    }
   },
   "id": "6f32c6c501a27645"
  },
  {
   "cell_type": "code",
   "execution_count": 23,
   "outputs": [
    {
     "data": {
      "text/plain": "<IPython.core.display.Markdown object>",
      "text/markdown": "1 - The eligibility criteria for the funding include demonstrating a clear and compelling public interest or benefit, complying with all applicable laws and regulations, and submitting a detailed proposal outlining the project or program's goals, budget, and expected outcomes.\n2 - The maximum amount of funding that can be requested is not specified in the given text."
     },
     "metadata": {},
     "output_type": "display_data"
    }
   ],
   "source": [
    "prompt = f\"\"\"Your task is to answer the following questions, based on text delimited by <>:\n",
    "1 - What is the eligibility criteria for the funding?\n",
    "2 - What is the maximum amount of funding that can be requested?\n",
    "Text: <{text}>\"\"\"\n",
    "\n",
    "printmd(get_completion(prompt))"
   ],
   "metadata": {
    "collapsed": false,
    "ExecuteTime": {
     "end_time": "2023-09-10T15:56:04.393182Z",
     "start_time": "2023-09-10T15:56:01.766117Z"
    }
   },
   "id": "5fea4d2cef7ac606"
  }
 ],
 "metadata": {
  "kernelspec": {
   "display_name": "Python 3",
   "language": "python",
   "name": "python3"
  },
  "language_info": {
   "codemirror_mode": {
    "name": "ipython",
    "version": 2
   },
   "file_extension": ".py",
   "mimetype": "text/x-python",
   "name": "python",
   "nbconvert_exporter": "python",
   "pygments_lexer": "ipython2",
   "version": "2.7.6"
  }
 },
 "nbformat": 4,
 "nbformat_minor": 5
}
