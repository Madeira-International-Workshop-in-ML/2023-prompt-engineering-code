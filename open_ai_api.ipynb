{
  "cells": [
    {
      "cell_type": "markdown",
      "metadata": {
        "id": "view-in-github",
        "colab_type": "text"
      },
      "source": [
        "<a href=\"https://colab.research.google.com/github/Madeira-International-Workshop-in-ML/2023-prompt-engineering-code/blob/student/open_ai_api.ipynb\" target=\"_parent\"><img src=\"https://colab.research.google.com/assets/colab-badge.svg\" alt=\"Open In Colab\"/></a>"
      ]
    },
    {
      "cell_type": "markdown",
      "id": "1187a90c86fd26ad",
      "metadata": {
        "id": "1187a90c86fd26ad"
      },
      "source": [
        "# A word about the transformer's base function Word2Vec\n",
        "\n",
        "Let's start this notebook by looking at the base function of the Transformer model Word2Vec.\n",
        "\n",
        "We will show how to train a Word2Vec model to be used as an input embedding layer for a Transformer model.\n",
        "\n",
        "The outcome of the Word2Vec is a collection of word vectors, with vectors that are closely positioned in vector space signifying similar meanings derived from their context, while word vectors situated far apart indicate contrasting meanings.\n",
        "\n",
        "The intuition behind this model is that words that appear in similar contexts are semantically similar."
      ]
    },
    {
      "cell_type": "markdown",
      "id": "ed04d5663494720c",
      "metadata": {
        "id": "ed04d5663494720c"
      },
      "source": [
        "Let's start by importing the required libraries and load the data."
      ]
    },
    {
      "cell_type": "code",
      "execution_count": null,
      "id": "d82cc66bb27edfbc",
      "metadata": {
        "id": "d82cc66bb27edfbc",
        "ExecuteTime": {
          "end_time": "2023-09-11T15:35:39.987710Z",
          "start_time": "2023-09-11T15:35:33.724064Z"
        },
        "outputId": "af885d54-8ffa-411b-d492-78e34ef6e97a"
      },
      "outputs": [
        {
          "name": "stderr",
          "output_type": "stream",
          "text": [
            "[nltk_data] Downloading package punkt to\n",
            "[nltk_data]     /Users/diogonunofreitas/nltk_data...\n",
            "[nltk_data]   Package punkt is already up-to-date!\n",
            "[nltk_data] Downloading package stopwords to\n",
            "[nltk_data]     /Users/diogonunofreitas/nltk_data...\n",
            "[nltk_data]   Package stopwords is already up-to-date!\n",
            "[nltk_data] Downloading package wordnet to\n",
            "[nltk_data]     /Users/diogonunofreitas/nltk_data...\n",
            "[nltk_data]   Package wordnet is already up-to-date!\n"
          ]
        },
        {
          "data": {
            "text/plain": "True"
          },
          "execution_count": 1,
          "metadata": {},
          "output_type": "execute_result"
        }
      ],
      "source": [
        "import nltk\n",
        "import pandas as pd\n",
        "from gensim.models import Word2Vec\n",
        "from nltk import word_tokenize\n",
        "from nltk.corpus import stopwords\n",
        "\n",
        "nltk.download('punkt')\n",
        "nltk.download('stopwords')\n",
        "nltk.download('wordnet')"
      ]
    },
    {
      "cell_type": "code",
      "execution_count": null,
      "id": "c503ff61948834e1",
      "metadata": {
        "id": "c503ff61948834e1",
        "ExecuteTime": {
          "end_time": "2023-09-11T15:35:40.280301Z",
          "start_time": "2023-09-11T15:35:39.984891Z"
        }
      },
      "outputs": [],
      "source": [
        "corpus = pd.read_csv('imdb.csv')"
      ]
    },
    {
      "cell_type": "markdown",
      "id": "2745a5fedd4418d7",
      "metadata": {
        "id": "2745a5fedd4418d7"
      },
      "source": [
        "## Tokenization and Stopword Removal"
      ]
    },
    {
      "cell_type": "markdown",
      "id": "3c24c1942929cd4f",
      "metadata": {
        "id": "3c24c1942929cd4f"
      },
      "source": [
        "We will start by tokenize the text into words, which is required for training the Word2Vec model.\n",
        "\n",
        "After that, it is recommended to remove stopwords and pontuation from the text before training the Word2Vec model. Stopwords are words that appear very frequently in the English language, such as \"the\", \"a\", \"an\", etc.\n",
        "These words do not add much value to the model, so it is recommended to remove them.\n",
        "\n",
        "After removing the stopwords, we will lemmatize the words. Lemmatization is the process of converting a word to its base form. For example, the word \"running\" will be converted to \"run\". This is done to reduce the number of unique words in the corpus, which will reduce the size of the Word2Vec model."
      ]
    },
    {
      "cell_type": "code",
      "execution_count": null,
      "id": "cf2e434af8c8455",
      "metadata": {
        "id": "cf2e434af8c8455",
        "ExecuteTime": {
          "end_time": "2023-09-11T16:07:08.230127Z",
          "start_time": "2023-09-11T16:07:08.225256Z"
        }
      },
      "outputs": [],
      "source": [
        "def process_text(text):\n",
        "    \"\"\"\n",
        "    Tokenize the text and remove stopwords\n",
        "    :param text: the text to process\n",
        "    :return: the processed text tokenized and without stopwords\n",
        "    \"\"\"\n",
        "    # Tokenize the text\n",
        "    tokenized_text = word_tokenize(text.lower())\n",
        "    # Remove stopwords\n",
        "    stop_words = set(stopwords.words('english'))\n",
        "    filtered_text = [word for word in tokenized_text if word not in stop_words]\n",
        "    # Remove punctuation\n",
        "    filtered_text = [word for word in filtered_text if word.isalpha()]\n",
        "    # Lemmatize words\n",
        "    lemmatizer = nltk.stem.WordNetLemmatizer()\n",
        "    filtered_text = [lemmatizer.lemmatize(word) for word in filtered_text]\n",
        "    return filtered_text"
      ]
    },
    {
      "cell_type": "code",
      "execution_count": null,
      "id": "e121fc4031cc19a0",
      "metadata": {
        "id": "e121fc4031cc19a0",
        "ExecuteTime": {
          "end_time": "2023-09-11T16:07:29.043545Z",
          "start_time": "2023-09-11T16:07:09.472343Z"
        }
      },
      "outputs": [],
      "source": [
        "# Apply the function to the corpus to get a list of tokenized reviews\n",
        "tokenized_reviews = [process_text(text) for text in corpus['Review']]"
      ]
    },
    {
      "cell_type": "markdown",
      "id": "699a698c4b2978d7",
      "metadata": {
        "id": "699a698c4b2978d7"
      },
      "source": [
        "## Training the Word2Vec Model"
      ]
    },
    {
      "cell_type": "code",
      "execution_count": null,
      "id": "48254b0e333f8d86",
      "metadata": {
        "id": "48254b0e333f8d86",
        "ExecuteTime": {
          "end_time": "2023-09-11T15:36:08.516565Z",
          "start_time": "2023-09-11T15:36:00.213433Z"
        }
      },
      "outputs": [],
      "source": [
        "# Train the Word2Vec model using the tokenized reviews and the training algorithm CBOW (Continuous Bag of Words).\n",
        "# The CBOW model architecture aims to forecast the central word (the target word) by relying on the context words from the surrounding text. To illustrate this concept using a basic sentence, such as \"the quick brown fox jumps over the lazy dog,\" we can form pairs of (context window, target word). When we adopt a context window size of 2, these pairs might appear as follows: ([quick, fox], brown), ([the, brown], quick), ([the, dog], lazy), and so forth. Consequently, the model goal is to make predictions for the target word using the context window words as input.\n",
        "model = Word2Vec(tokenized_reviews, window=5, sg=0)"
      ]
    },
    {
      "cell_type": "code",
      "execution_count": null,
      "id": "82a0a1e63b315092",
      "metadata": {
        "id": "82a0a1e63b315092",
        "ExecuteTime": {
          "end_time": "2023-09-11T15:36:08.625553Z",
          "start_time": "2023-09-11T15:36:08.517208Z"
        },
        "outputId": "cf8141e7-b107-4626-d614-6073abc6f738"
      },
      "outputs": [
        {
          "name": "stdout",
          "output_type": "stream",
          "text": [
            "Vector for 'shoot': [-1.6354848   0.02940555 -0.03065043  0.18312892 -0.29582706 -0.761482\n",
            " -1.370863    0.88662237  0.82866555 -0.2131901   0.20288606 -0.9310113\n",
            " -0.16546102 -0.9916288   0.7659614  -0.71086603  0.60045326 -0.9254737\n",
            "  0.9910457   0.7306788  -0.43744752 -0.73582894 -1.2232022  -0.41490057\n",
            "  0.23851106 -0.18415537  0.21422204  1.3858869   0.3235057   0.39649987\n",
            "  0.37479663  0.3931285  -0.9485503   0.4688766  -0.7412996  -0.06449657\n",
            "  0.5491741   0.12971085 -0.13941239 -0.30687982 -0.6296342  -0.7170775\n",
            "  0.55186385  0.25287125 -0.4231826  -0.6350234   0.06494009  1.1232893\n",
            " -0.8005206  -0.592499    1.1786201  -0.89500403  0.4767624   0.38472432\n",
            "  0.7104765   0.14611271 -0.04292127  1.2554514   0.6084654  -0.16617449\n",
            " -0.2234725   0.18799862 -0.18125822 -0.04208365 -0.3744834  -0.51432025\n",
            "  0.5683422   1.230871    0.29570186  1.334292    0.67582184  0.8105357\n",
            "  0.43456602 -1.1591966  -0.03199024  0.08510557 -1.3268903   0.43598405\n",
            " -0.43810228 -1.4577626  -0.34515244 -0.14185868 -1.5140188   1.5881121\n",
            "  0.5226931  -0.43937063 -1.4744633  -0.60547584 -0.14838591 -0.08609483\n",
            "  0.45208505 -0.62317693 -0.8279468  -0.28160873  1.6724613  -0.8118607\n",
            "  0.4332363  -0.8847962   0.5065149  -0.6845309 ]\n",
            "Similar words to 'shoot': [('bullet', 0.8067528009414673), ('gun', 0.8008397817611694), ('knife', 0.7592980861663818), ('beat', 0.7562242150306702), ('fly', 0.7538732886314392)]\n"
          ]
        }
      ],
      "source": [
        "# Get the vector for a word\n",
        "word = 'shoot'\n",
        "\n",
        "# Get the vector for a word\n",
        "word_vector = model.wv[word]\n",
        "\n",
        "# Find similar words\n",
        "similar_words = model.wv.most_similar(word, topn=5)\n",
        "\n",
        "# Print the word vector and similar words\n",
        "print(f\"Vector for '{word}': {word_vector}\")\n",
        "print(f\"Similar words to '{word}': {similar_words}\")"
      ]
    },
    {
      "cell_type": "markdown",
      "id": "7dc525129e8beda5",
      "metadata": {
        "id": "7dc525129e8beda5"
      },
      "source": [
        "# OpenAI API\n",
        "\n",
        "The rest of the notebook will be dedicated to the OpenAI API. We will show how to use the API to sentiment analysis and summarization.\n",
        "\n",
        "Let's start by installing and importing the OpenAI library, as well as the other libraries required for this part of the notebook"
      ]
    },
    {
      "cell_type": "code",
      "execution_count": null,
      "id": "57f1c43a6d36c043",
      "metadata": {
        "ExecuteTime": {
          "end_time": "2023-09-10T15:55:35.290121Z",
          "start_time": "2023-09-10T15:55:32.783882Z"
        },
        "id": "57f1c43a6d36c043"
      },
      "outputs": [],
      "source": [
        "!pip install openai\n",
        "!pip install python-dotenv\n",
        "!pip install pypdf"
      ]
    },
    {
      "cell_type": "code",
      "execution_count": null,
      "id": "68364e8635d35727",
      "metadata": {
        "ExecuteTime": {
          "end_time": "2023-09-10T15:55:35.372026Z",
          "start_time": "2023-09-10T15:55:35.290729Z"
        },
        "id": "68364e8635d35727"
      },
      "outputs": [],
      "source": [
        "import openai"
      ]
    },
    {
      "cell_type": "markdown",
      "id": "aeb876d231cd973e",
      "metadata": {
        "id": "aeb876d231cd973e"
      },
      "source": [
        "## Completion function\n",
        "\n",
        "The follwing function will be used to get the completion from the OpenAI API."
      ]
    },
    {
      "cell_type": "code",
      "execution_count": null,
      "id": "eca7b8e9f4f7e811",
      "metadata": {
        "ExecuteTime": {
          "end_time": "2023-09-10T15:55:35.376150Z",
          "start_time": "2023-09-10T15:55:35.372930Z"
        },
        "id": "eca7b8e9f4f7e811"
      },
      "outputs": [],
      "source": [
        "def get_completion(prompt, model=\"gpt-3.5-turbo\", temperature=0):\n",
        "    \"\"\"\n",
        "    Get the completion from the OpenAI API\n",
        "    :param prompt: the prompt to send to the API\n",
        "    :param model: the model to use\n",
        "    :param temperature: the temperature to use\n",
        "    :return: the completion\n",
        "    \"\"\"\n",
        "    messages = [{\"role\": \"user\", \"content\": prompt}]\n",
        "    response = openai.ChatCompletion.create(\n",
        "        model=model,\n",
        "        messages=messages,\n",
        "        temperature=temperature\n",
        "    )\n",
        "    completion = response.choices[0].message[\"content\"]\n",
        "    return completion"
      ]
    },
    {
      "cell_type": "markdown",
      "id": "c12ea1e3df9760f9",
      "metadata": {
        "id": "c12ea1e3df9760f9"
      },
      "source": [
        "## Configuration of the OpenAI API\n",
        "\n",
        "Before we can use the API, we need to configure it with our API key. The API key will be stored in a file called `.env`, which will be loaded by the `dotenv` library and used to configure the API via environment variables.\n",
        "\n",
        "The API key can be found in the OpenAI dashboard."
      ]
    },
    {
      "cell_type": "code",
      "execution_count": null,
      "id": "3c9829df90c2c56e",
      "metadata": {
        "ExecuteTime": {
          "end_time": "2023-09-10T15:55:35.379997Z",
          "start_time": "2023-09-10T15:55:35.375158Z"
        },
        "id": "3c9829df90c2c56e"
      },
      "outputs": [],
      "source": [
        "from dotenv import load_dotenv\n",
        "import os"
      ]
    },
    {
      "cell_type": "code",
      "execution_count": null,
      "id": "ba5d84b4fa0c5d30",
      "metadata": {
        "ExecuteTime": {
          "end_time": "2023-09-10T15:55:35.383683Z",
          "start_time": "2023-09-10T15:55:35.380195Z"
        },
        "id": "ba5d84b4fa0c5d30"
      },
      "outputs": [],
      "source": [
        "_ = load_dotenv('.env')"
      ]
    },
    {
      "cell_type": "code",
      "execution_count": null,
      "id": "caca4663447bc0ca",
      "metadata": {
        "ExecuteTime": {
          "end_time": "2023-09-10T15:55:35.384534Z",
          "start_time": "2023-09-10T15:55:35.382501Z"
        },
        "id": "caca4663447bc0ca"
      },
      "outputs": [],
      "source": [
        "openai.api_key = os.getenv('OPENAI_API_KEY')"
      ]
    },
    {
      "cell_type": "markdown",
      "id": "272b8777a58caaa8",
      "metadata": {
        "id": "272b8777a58caaa8"
      },
      "source": [
        "_Optional:_ Define a hellper function to print contents in markdown format."
      ]
    },
    {
      "cell_type": "code",
      "execution_count": null,
      "id": "65ef4141c616fe21",
      "metadata": {
        "ExecuteTime": {
          "end_time": "2023-09-10T15:55:35.387280Z",
          "start_time": "2023-09-10T15:55:35.384696Z"
        },
        "id": "65ef4141c616fe21"
      },
      "outputs": [],
      "source": [
        "from IPython.display import Markdown, display"
      ]
    },
    {
      "cell_type": "code",
      "execution_count": null,
      "id": "37377fc9061c1b18",
      "metadata": {
        "ExecuteTime": {
          "end_time": "2023-09-10T15:55:35.390484Z",
          "start_time": "2023-09-10T15:55:35.389019Z"
        },
        "id": "37377fc9061c1b18"
      },
      "outputs": [],
      "source": [
        "def printmd(string):\n",
        "    \"\"\"\n",
        "    Print markdown content in the notebook.\n",
        "    :param string: the markdown content\n",
        "    \"\"\"\n",
        "    display(Markdown(string))"
      ]
    },
    {
      "cell_type": "markdown",
      "id": "3fbd51f3c402aa57",
      "metadata": {
        "id": "3fbd51f3c402aa57"
      },
      "source": [
        "Now, we can test our API configuration by sending a prompt to the API and printing the completion."
      ]
    },
    {
      "cell_type": "code",
      "execution_count": null,
      "id": "7ccc602607bb4d49",
      "metadata": {
        "ExecuteTime": {
          "end_time": "2023-09-10T15:55:42.416046Z",
          "start_time": "2023-09-10T15:55:35.391014Z"
        },
        "id": "7ccc602607bb4d49"
      },
      "outputs": [],
      "source": [
        "printmd(get_completion(\"Craft a concise invitation for the AI Summit on 13-09-2023 at 2pm at the Museu da Imprensa da Madeira, keeping in mind that the audience will be tech professionals, researchers, and enthusiasts, and the format should be in a standard invitation style.\"))"
      ]
    },
    {
      "cell_type": "markdown",
      "id": "4ab2cfab0d75598e",
      "metadata": {
        "id": "4ab2cfab0d75598e"
      },
      "source": [
        "**Now that we have configured the API, we can start using it to perform several tasks.**"
      ]
    },
    {
      "cell_type": "markdown",
      "id": "e81df65e6315be59",
      "metadata": {
        "id": "e81df65e6315be59"
      },
      "source": [
        "## Sentiment Analysis\n",
        "\n",
        "The following function will be used to perform sentiment analysis using the OpenAI API. Sentiment analysis is the process of determining whether a piece of writing is positive, negative, or neutral."
      ]
    },
    {
      "cell_type": "code",
      "execution_count": null,
      "id": "d77828b68e0f57a3",
      "metadata": {
        "ExecuteTime": {
          "end_time": "2023-09-10T15:55:42.424832Z",
          "start_time": "2023-09-10T15:55:42.416748Z"
        },
        "id": "d77828b68e0f57a3"
      },
      "outputs": [],
      "source": [
        "def get_sentiment(text):\n",
        "    prompt = f\"What is the sentiment of the following movie review, which is delimited with triple backticks? Give your answer as a single word, either 'positive', 'negative' or 'neutral'. Review text: ```{text}```\"\n",
        "    return get_completion(prompt)"
      ]
    },
    {
      "cell_type": "code",
      "execution_count": null,
      "id": "309294fe0d4c2f26",
      "metadata": {
        "ExecuteTime": {
          "end_time": "2023-09-10T15:55:48.542022Z",
          "start_time": "2023-09-10T15:55:42.421489Z"
        },
        "id": "309294fe0d4c2f26"
      },
      "outputs": [],
      "source": [
        "# Let's test the function with a few reviews from the corpus\n",
        "for i in range(10):\n",
        "    print(f\"Review {i}: {corpus.iloc[i]['Review']}--> Sentiment: {get_sentiment(corpus.iloc[i]['Review'])} \\n\")"
      ]
    },
    {
      "cell_type": "markdown",
      "id": "aa0567f080de56fd",
      "metadata": {
        "id": "aa0567f080de56fd"
      },
      "source": [
        "## Inferring Topics\n",
        "\n",
        "Is the task of inferring topics from a piece of text."
      ]
    },
    {
      "cell_type": "code",
      "execution_count": null,
      "id": "ca8d4e53bb7c4d39",
      "metadata": {
        "ExecuteTime": {
          "end_time": "2023-09-10T15:55:48.548927Z",
          "start_time": "2023-09-10T15:55:48.543771Z"
        },
        "id": "ca8d4e53bb7c4d39"
      },
      "outputs": [],
      "source": [
        "# Read the suggestions from the text file\n",
        "with open('desired-topics.txt', 'r') as f:\n",
        "    suggestions = f.read()"
      ]
    },
    {
      "cell_type": "code",
      "execution_count": null,
      "id": "29298261006694aa",
      "metadata": {
        "ExecuteTime": {
          "end_time": "2023-09-10T15:55:49.582481Z",
          "start_time": "2023-09-10T15:55:48.548481Z"
        },
        "id": "29298261006694aa"
      },
      "outputs": [],
      "source": [
        "prompt = f\"\"\"\n",
        "Determine five topics that the participants of the MML '23 want to see discussed in the event. The suggestions are delimited by triple backticks. Each line corresponds to a user suggestion.\n",
        "Make each item one or two words long.\n",
        "Format your response as a list of items separated by commas.\n",
        "\n",
        "Suggestions: '''{suggestions}'''\n",
        "\"\"\"\n",
        "\n",
        "printmd(get_completion(prompt))"
      ]
    },
    {
      "cell_type": "markdown",
      "id": "fcaf9736d75b2067",
      "metadata": {
        "id": "fcaf9736d75b2067"
      },
      "source": [
        "# Summarization and Q&A\n",
        "\n",
        "The follwing section will read a PDF file and summarize it using the OpenAI API. Also, it will answer a few questions about the text."
      ]
    },
    {
      "cell_type": "code",
      "execution_count": null,
      "id": "f182de188b24481c",
      "metadata": {
        "ExecuteTime": {
          "end_time": "2023-09-10T15:55:49.623372Z",
          "start_time": "2023-09-10T15:55:49.583543Z"
        },
        "id": "f182de188b24481c"
      },
      "outputs": [],
      "source": [
        "from pypdf import PdfReader"
      ]
    },
    {
      "cell_type": "code",
      "execution_count": null,
      "id": "84c3ffb414041e4b",
      "metadata": {
        "ExecuteTime": {
          "end_time": "2023-09-10T15:56:31.111955Z",
          "start_time": "2023-09-10T15:56:30.465113Z"
        },
        "id": "84c3ffb414041e4b"
      },
      "outputs": [],
      "source": [
        "# Read the PDF file and extract the text\n",
        "text = \"\"\n",
        "\n",
        "reader = PdfReader(\"regulation.pdf\")\n",
        "\n",
        "for i in range(len(reader.pages)):\n",
        "  page = reader.pages[i]\n",
        "  text += page.extract_text()"
      ]
    },
    {
      "cell_type": "code",
      "execution_count": null,
      "id": "6f32c6c501a27645",
      "metadata": {
        "ExecuteTime": {
          "end_time": "2023-09-10T15:56:01.763970Z",
          "start_time": "2023-09-10T15:55:49.636460Z"
        },
        "id": "6f32c6c501a27645"
      },
      "outputs": [],
      "source": [
        "prompt = f\"\"\"Your task is to perform the following actions:\n",
        "1 - Summarize the following text delimited by <> in at most 100 words. Focus on eligibility criteria, application process, and evaluation criteria.\n",
        "2 - Translate the summary into French.\n",
        "Text: <{text}>\"\"\"\n",
        "\n",
        "printmd(get_completion(prompt))"
      ]
    },
    {
      "cell_type": "code",
      "execution_count": null,
      "id": "5fea4d2cef7ac606",
      "metadata": {
        "ExecuteTime": {
          "end_time": "2023-09-10T15:56:04.393182Z",
          "start_time": "2023-09-10T15:56:01.766117Z"
        },
        "id": "5fea4d2cef7ac606"
      },
      "outputs": [],
      "source": [
        "prompt = f\"\"\"Your task is to answer the following questions, based on text delimited by <>:\n",
        "1 - What is the eligibility criteria for the funding?\n",
        "2 - What is the maximum amount of funding that can be requested?\n",
        "Text: <{text}>\"\"\"\n",
        "\n",
        "printmd(get_completion(prompt))"
      ]
    }
  ],
  "metadata": {
    "colab": {
      "provenance": [],
      "include_colab_link": true
    },
    "kernelspec": {
      "display_name": "Python 3 (ipykernel)",
      "language": "python",
      "name": "python3"
    },
    "language_info": {
      "codemirror_mode": {
        "name": "ipython",
        "version": 3
      },
      "file_extension": ".py",
      "mimetype": "text/x-python",
      "name": "python",
      "nbconvert_exporter": "python",
      "pygments_lexer": "ipython3",
      "version": "3.11.3"
    }
  },
  "nbformat": 4,
  "nbformat_minor": 5
}